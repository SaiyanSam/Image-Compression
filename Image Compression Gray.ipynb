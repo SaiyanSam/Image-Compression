{
 "cells": [
  {
   "cell_type": "code",
   "execution_count": 1,
   "id": "ee81515b-32a8-4da4-bb7c-42e3d42415f9",
   "metadata": {},
   "outputs": [],
   "source": [
    "import numpy as np\n",
    "from scipy.fftpack import dct, idct\n",
    "from PIL import Image\n",
    "import json"
   ]
  },
  {
   "cell_type": "code",
   "execution_count": 11,
   "id": "dbf79c9c-2f61-4a1d-8cc9-6c8497d48099",
   "metadata": {},
   "outputs": [],
   "source": [
    "image_path = 'images/penguin.png'\n",
    "image = Image.open(image_path).convert('L')\n",
    "\n",
    "image.save(\"images/penguin_original.jpg\", \"JPEG\")\n",
    "\n",
    "image_data = np.array(image)"
   ]
  },
  {
   "cell_type": "code",
   "execution_count": 3,
   "id": "e036bf27-4c12-4146-9e17-a53cf4465cea",
   "metadata": {},
   "outputs": [],
   "source": [
    "# Quantization matrix for grayscale images\n",
    "quant_matrix = np.array([\n",
    "    [16, 11, 10, 16, 24, 40, 51, 61],\n",
    "    [12, 12, 14, 19, 26, 58, 60, 55],\n",
    "    [14, 13, 16, 24, 40, 57, 69, 56],\n",
    "    [14, 17, 22, 29, 51, 87, 80, 62],\n",
    "    [18, 22, 37, 56, 68, 109, 103, 77],\n",
    "    [24, 35, 55, 64, 81, 104, 113, 92],\n",
    "    [49, 64, 78, 87, 103, 121, 120, 101],\n",
    "    [72, 92, 95, 98, 112, 100, 103, 99]\n",
    "])"
   ]
  },
  {
   "cell_type": "code",
   "execution_count": 4,
   "id": "7a7c1808-68fe-4529-862e-ae6e00b4ad97",
   "metadata": {},
   "outputs": [],
   "source": [
    "# Compression Functions\n",
    "def split_into_blocks(channel, block_size=8):\n",
    "    h, w = channel.shape\n",
    "    blocks = []\n",
    "    for i in range(0, h, block_size):\n",
    "        for j in range(0, w, block_size):\n",
    "            block = channel[i:i+block_size, j:j+block_size]\n",
    "            if block.shape == (block_size, block_size):\n",
    "                blocks.append(block)\n",
    "    return np.array(blocks)\n",
    "\n",
    "def apply_dct(blocks):\n",
    "    dct_blocks = []\n",
    "    for block in blocks:\n",
    "        dct_block = dct(dct(block.T, norm='ortho').T, norm='ortho')\n",
    "        dct_blocks.append(dct_block)\n",
    "    return np.array(dct_blocks)\n",
    "\n",
    "def quantize(blocks, quant_matrix):\n",
    "    quantized_blocks = []\n",
    "    for block in blocks:\n",
    "        quantized_block = np.round(block / quant_matrix).astype(int)\n",
    "        quantized_blocks.append(quantized_block)\n",
    "    return np.array(quantized_blocks)\n",
    "\n",
    "def zigzag_order(block):\n",
    "    zigzag_pattern = np.array([\n",
    "        [0, 1, 5, 6, 14, 15, 27, 28],\n",
    "        [2, 4, 7, 13, 16, 26, 29, 42],\n",
    "        [3, 8, 12, 17, 25, 30, 41, 43],\n",
    "        [9, 11, 18, 24, 31, 40, 44, 53],\n",
    "        [10, 19, 23, 32, 39, 45, 52, 54],\n",
    "        [20, 22, 33, 38, 46, 51, 55, 60],\n",
    "        [21, 34, 37, 47, 50, 56, 59, 61],\n",
    "        [35, 36, 48, 49, 57, 58, 62, 63]\n",
    "    ]).flatten()\n",
    "    return block.flatten()[zigzag_pattern]"
   ]
  },
  {
   "cell_type": "code",
   "execution_count": 5,
   "id": "17ec4a9d-3e91-44b5-a4f6-8ab578d4af6b",
   "metadata": {},
   "outputs": [],
   "source": [
    "# In case image dimensions not perfectly divisible into 8x8 blocks \n",
    "def pad_image(image, block_size=8):\n",
    "    h, w = image.shape\n",
    "    pad_h = (block_size - h % block_size) % block_size\n",
    "    pad_w = (block_size - w % block_size) % block_size\n",
    "    padded_image = np.pad(image, ((0, pad_h), (0, pad_w)), mode='constant', constant_values=0)\n",
    "    return padded_image, padded_image.shape"
   ]
  },
  {
   "cell_type": "code",
   "execution_count": 6,
   "id": "51d09806-4b99-449d-9c72-f17f0b087208",
   "metadata": {},
   "outputs": [],
   "source": [
    "# Compression steps\n",
    "padded_image, padded_shape = pad_image(image_data)\n",
    "blocks = split_into_blocks(padded_image)\n",
    "dct_blocks = apply_dct(blocks)\n",
    "quantized_blocks = quantize(dct_blocks, quant_matrix)\n",
    "zigzag_blocks = [zigzag_order(block) for block in quantized_blocks]"
   ]
  },
  {
   "cell_type": "code",
   "execution_count": 7,
   "id": "f0dcca5e-6b19-4c40-b43a-a145da3bff31",
   "metadata": {},
   "outputs": [],
   "source": [
    "# Decompression Functions\n",
    "def inverse_quantize(blocks, quant_matrix):\n",
    "    return np.array([block * quant_matrix for block in blocks])\n",
    "\n",
    "def apply_idct(blocks):\n",
    "    return np.array([idct(idct(block.T, norm='ortho').T, norm='ortho') for block in blocks])\n",
    "\n",
    "def reconstruct_image_from_blocks(blocks, image_shape, block_size=8):\n",
    "    h, w = image_shape\n",
    "    image = np.zeros((h, w))\n",
    "    block_index = 0\n",
    "    for i in range(0, h, block_size):\n",
    "        for j in range(0, w, block_size):\n",
    "            image[i:i+block_size, j:j+block_size] = blocks[block_index]\n",
    "            block_index += 1\n",
    "    return image"
   ]
  },
  {
   "cell_type": "code",
   "execution_count": 8,
   "id": "9558bc6c-74a5-4a59-94da-242c27cde54c",
   "metadata": {},
   "outputs": [],
   "source": [
    "# Decompression steps\n",
    "dequantized_blocks = inverse_quantize(quantized_blocks, quant_matrix)\n",
    "idct_blocks = apply_idct(dequantized_blocks)\n",
    "reconstructed_image = reconstruct_image_from_blocks(idct_blocks, padded_shape)"
   ]
  },
  {
   "cell_type": "code",
   "execution_count": 9,
   "id": "33f7f6dc-3f86-4bb0-aceb-d4e1416654b6",
   "metadata": {},
   "outputs": [
    {
     "name": "stdout",
     "output_type": "stream",
     "text": [
      "Reconstructed image saved as reconstructed_image.jpg\n"
     ]
    }
   ],
   "source": [
    "from PIL import Image\n",
    "\n",
    "# Ensure pixel values are in the correct range (0 to 255)\n",
    "reconstructed_image_clipped = np.clip(reconstructed_image, 0, 255).astype(np.uint8)\n",
    "\n",
    "# Convert the array to an Image object and save it as a JPEG\n",
    "reconstructed_img = Image.fromarray(reconstructed_image_clipped, mode='L')\n",
    "reconstructed_img.save(\"images/reconstructed_image.jpg\", \"JPEG\")\n",
    "print(\"Reconstructed image saved as reconstructed_image.jpg\")"
   ]
  },
  {
   "cell_type": "code",
   "execution_count": 10,
   "id": "c31e80ef-3c1f-493f-a29c-b309b247fce6",
   "metadata": {},
   "outputs": [
    {
     "name": "stdout",
     "output_type": "stream",
     "text": [
      "Original Image Size: 5290002 bytes\n",
      "Compressed Image Size: 409353 bytes\n",
      "Space Saved: 4880649 bytes (92.26%)\n",
      "Compression Ratio: 12.92\n"
     ]
    }
   ],
   "source": [
    "import os\n",
    "\n",
    "original_size = os.path.getsize(\"images/penguin.png\")\n",
    "print(f\"Original Image Size: {original_size} bytes\")\n",
    "\n",
    "compressed_size = os.path.getsize(\"images/reconstructed_image.jpg\")\n",
    "print(f\"Compressed Image Size: {compressed_size} bytes\")\n",
    "\n",
    "space_saved = original_size - compressed_size\n",
    "compression_ratio = original_size / compressed_size\n",
    "space_saved_percentage = (space_saved / original_size) * 100\n",
    "\n",
    "print(f\"Space Saved: {space_saved} bytes ({space_saved_percentage:.2f}%)\")\n",
    "print(f\"Compression Ratio: {compression_ratio:.2f}\")"
   ]
  },
  {
   "cell_type": "code",
   "execution_count": null,
   "id": "f7c17a45-7e99-44de-be48-5dfd136509bb",
   "metadata": {},
   "outputs": [],
   "source": []
  }
 ],
 "metadata": {
  "kernelspec": {
   "display_name": "Python 3 (ipykernel)",
   "language": "python",
   "name": "python3"
  },
  "language_info": {
   "codemirror_mode": {
    "name": "ipython",
    "version": 3
   },
   "file_extension": ".py",
   "mimetype": "text/x-python",
   "name": "python",
   "nbconvert_exporter": "python",
   "pygments_lexer": "ipython3",
   "version": "3.12.4"
  }
 },
 "nbformat": 4,
 "nbformat_minor": 5
}
